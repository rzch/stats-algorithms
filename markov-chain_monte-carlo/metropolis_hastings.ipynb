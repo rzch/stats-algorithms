{
 "cells": [
  {
   "cell_type": "markdown",
   "metadata": {},
   "source": [
    "# Metropolis Hastings Demo\n",
    "\n",
    "This notebook demonstrates a simple implementation of the Metropolis-Hastings algorithm for Markov-Chain Monte-Carlo (MCMC) sampling. We follow similar notation as in [Robert & Casella (2010) - Introducing Monte Carlo Methods with R](https://doi.org/10.1007/978-1-4419-1576-4).\n",
    "\n"
   ]
  },
  {
   "cell_type": "markdown",
   "metadata": {},
   "source": [
    "Suppose we have a multivariate density $f\\left(\\mathbf{x}\\right)$ known up to a proportionality constant (called the *target density*) we want to sample from, but it is not practical to do so (eg. it has no analytical form and we can only evaluate it). To perform MCMC sampling from this density, then we require a *proposal density*, which is a conditional density $q\\left(\\mathbf{y}\\middle|\\mathbf{x}\\right)$. The only two conditions we need for this density are that:\n",
    "* we can easily draw samples from $q$ given $\\mathbf{x}$, and that \n",
    "* $q$ 'supports' $f$ (roughly speaking, anything that can be sampled from $f$ should also be able to be sampled from $q$)."
   ]
  },
  {
   "cell_type": "markdown",
   "metadata": {},
   "source": [
    "The Metropolis Hastings algorithm constructs a Markov chain such that the stationary distribution is the same as $f$. The transition law for the chain, given $\\mathbf{x}_{t}$, is\n",
    "1. Sample $\\mathbf{Y}_{t} \\sim q\\left(\\mathbf{y}\\middle| \\mathbf{x}_{t}\\right)$\n",
    "\n",
    "2. Generate $U$ from the uniform distribution on $\\left(0, 1\\right)$ and take\n",
    "\n",
    " \\begin{equation}\n",
    " \\mathbf{X}_{t} = \\begin{cases} \\mathbf{Y}_{t}, & U \\leq \\rho\\left(\\mathbf{x}_{t}, \\mathbf{Y}_{t}\\right) \\\\ \\mathbf{x}_{t}, & \\text{otherwise}\\end{cases}\n",
    " \\end{equation}\n",
    " \n",
    " where\n",
    " \\begin{equation}\n",
    " \\rho\\left(\\mathbf{x}, \\mathbf{y}\\right) = \\min\\left\\{\\dfrac{f\\left(\\mathbf{y}\\right)}{f\\left(\\mathbf{x}\\right)}\\cdot\\dfrac{q\\left(\\mathbf{x}\\middle|\\mathbf{y}\\right)}{q\\left(\\mathbf{y}\\middle|\\mathbf{x}\\right)}, 1\\right\\}\n",
    " \\end{equation}"
   ]
  },
  {
   "cell_type": "markdown",
   "metadata": {},
   "source": [
    "Then a practical way to draw samples from $f$ is to simulate the chain for a 'reasonably long time'. Then the final sample in the chain will be approximately distributed as $f$. If we want to take $n$ independent samples, then we perform $n$ independent simulated chains and take the last sample in each. For some purposes (eg. plotting a histogram), it is enough to take all the samples in a single chain, even though the samples will be dependent."
   ]
  },
  {
   "cell_type": "markdown",
   "metadata": {},
   "source": [
    "As an example, suppose $\\mathbf{x} \\in \\mathbb{R}^{2}$ and we want to sample from the density proportial to\n",
    "\\begin{equation}\n",
    "f\\left(\\mathbf{x}\\right) = \\mathbb{I}_{\\left\\{x_{1}x_{2} \\leq 0 \\right\\}}\\phi\\left(x_{1}\\right)\\phi\\left(x_{2}\\right)\n",
    "\\end{equation}\n",
    "where $\\phi$ is the standard univariate Gaussian density, and $\\mathbb{I}$ is the indicator. This represents the standard bivariate Gaussian truncated on two quadrants. A simple choice of the proposal density is the un-truncated bivariate gaussian:\n",
    "\\begin{equation}\n",
    "q\\left(\\mathbf{y}\\middle|\\mathbf{x}\\right) = \\phi\\left(y_{1}\\right)\\phi\\left(y_{2}\\right)\n",
    "\\end{equation}"
   ]
  },
  {
   "cell_type": "code",
   "execution_count": 1,
   "metadata": {},
   "outputs": [],
   "source": [
    "import numpy as np\n",
    "import scipy as sp\n",
    "import matplotlib.pyplot as plt\n",
    "from scipy.stats import norm"
   ]
  },
  {
   "cell_type": "code",
   "execution_count": 7,
   "metadata": {},
   "outputs": [],
   "source": [
    "def fdensity(x):\n",
    "    #target density\n",
    "    return (x[0]*x[1] <= 0)*norm.pdf(x[0])*norm.pdf(x[1])\n",
    "\n",
    "def qdensity(y, x):\n",
    "    #proposal density\n",
    "    return norm.pdf(y[0])*norm.pdf(y[1])\n",
    "\n",
    "def genq(xt):\n",
    "    #generate sample from proposal density conditional on xt\n",
    "    return np.random.normal(size = 2)\n",
    "\n",
    "def mh_draw_sample(xt, f, q, genq):\n",
    "    #generate the next sample in the Markov chain given xt\n",
    "    Y = genq(xt)\n",
    "    \n",
    "    acceptance_prob = min(f(Y)*q(xt, Y)/(f(xt)*q(Y, xt)), 1)\n",
    "    \n",
    "    if (np.random.rand() < acceptance_prob):\n",
    "        Xtp1 = Y\n",
    "    else:\n",
    "        Xtp1 = xt\n",
    "        \n",
    "    return Xtp1"
   ]
  },
  {
   "cell_type": "code",
   "execution_count": 41,
   "metadata": {},
   "outputs": [],
   "source": [
    "#simulate a chain\n",
    "\n",
    "Nsim = 100000\n",
    "\n",
    "Xchain = np.zeros((2, Nsim))\n",
    "\n",
    "for t in range(1, Nsim):\n",
    "    Xchain[:, t] = mh_draw_sample(Xchain[:, t - 1], fdensity, qdensity, genq)\n",
    "    \n"
   ]
  },
  {
   "cell_type": "markdown",
   "metadata": {},
   "source": [
    "We can visualise the density of the sampled chain, as the standard bivariate Gaussian truncated on two quadrants."
   ]
  },
  {
   "cell_type": "code",
   "execution_count": 44,
   "metadata": {},
   "outputs": [
    {
     "data": {
      "image/png": "[encoded data removed]",
      "text/plain": [
       "<Figure size 432x288 with 1 Axes>"
      ]
     },
     "metadata": {
      "needs_background": "light"
     },
     "output_type": "display_data"
    }
   ],
   "source": [
    "plt.figure()\n",
    "plt.hist2d(Xchain[0, :], Xchain[1, :], bins=80)\n",
    "plt.xlim((-3, 3))\n",
    "plt.ylim((-3, 3))\n",
    "plt.show()"
   ]
  }
 ],
 "metadata": {
  "kernelspec": {
   "display_name": "Python 3",
   "language": "python",
   "name": "python3"
  },
  "language_info": {
   "codemirror_mode": {
    "name": "ipython",
    "version": 3
   },
   "file_extension": ".py",
   "mimetype": "text/x-python",
   "name": "python",
   "nbconvert_exporter": "python",
   "pygments_lexer": "ipython3",
   "version": "3.7.1"
  }
 },
 "nbformat": 4,
 "nbformat_minor": 2
}
