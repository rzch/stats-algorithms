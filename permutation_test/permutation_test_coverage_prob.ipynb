{
 "cells": [
  {
   "cell_type": "markdown",
   "metadata": {},
   "source": [
    "# Permutation Test Coverage Probability\n",
    "\n",
    "This script implements a permutation test and confidence interval for a location parameter, and simulates the coverage probability.\n"
   ]
  },
  {
   "cell_type": "code",
   "execution_count": 5,
   "metadata": {},
   "outputs": [],
   "source": [
    "import numpy as np\n",
    "import scipy as sp\n",
    "import math\n",
    "from scipy.stats import norm"
   ]
  },
  {
   "cell_type": "code",
   "execution_count": 39,
   "metadata": {},
   "outputs": [],
   "source": [
    "def perm_test2(X, m0):\n",
    "    #returns the p-value of a two sided permutation test with null hypothesis for\n",
    "    #location parameter of m0\n",
    "    \n",
    "    #sample size\n",
    "    n = len(X)\n",
    "    \n",
    "    #sample deviations from null\n",
    "    Xd = X - m0\n",
    "    \n",
    "    #test statistic\n",
    "    d = sum(Xd)\n",
    "    \n",
    "    #binary representation {-1, +1} for signs\n",
    "    S = np.zeros((2**n, n))\n",
    "    for i in range(2**n):\n",
    "        j = 0\n",
    "        tmp = i\n",
    "        while (j < n) and (tmp > 0):\n",
    "            S[i, j] = tmp%2\n",
    "            tmp = math.floor(tmp/2)\n",
    "            j += 1\n",
    "    S = np.fliplr(S)\n",
    "    S[S == 0] = -1\n",
    "    \n",
    "    #permutation distribution\n",
    "    T = np.zeros((2**n))\n",
    "    for i in range(2**n):\n",
    "        T[i] = sum(S[i,:]*Xd)\n",
    "    \n",
    "    #p-value\n",
    "    p2 = (sum(T >= abs(d)) + sum(T <= -abs(d)))/(2**n)\n",
    "    \n",
    "    return p2\n",
    "\n",
    "def conf_int(X, alpha):\n",
    "    #returns a 100*(1 - alpha) confidence interval for the location parameter\n",
    "    #by inverting permutation tests\n",
    "    \n",
    "    m0s = np.linspace(-2, 2, 100)\n",
    "    p2s = np.zeros(len(m0s))\n",
    "    \n",
    "    for k in range(len(m0s)):\n",
    "        m0 = m0s[k]\n",
    "        \n",
    "        p2s[k] = perm_test2(X, m0)\n",
    "        \n",
    "    #lower and upper bounds of confidence interval\n",
    "    lb = min(m0s[p2s >= alpha])\n",
    "    ub = max(m0s[p2s >= alpha])\n",
    "    \n",
    "    return lb, ub"
   ]
  },
  {
   "cell_type": "code",
   "execution_count": 40,
   "metadata": {},
   "outputs": [
    {
     "name": "stdout",
     "output_type": "stream",
     "text": [
      "0.083984375\n",
      "(-0.06060606060606055, 0.9494949494949498)\n"
     ]
    }
   ],
   "source": [
    "#set random seed\n",
    "np.random.seed(42)\n",
    "\n",
    "#sample size\n",
    "n = 10\n",
    "#actual location paraneter\n",
    "theta = 0\n",
    "#level of significance\n",
    "alpha = 0.05\n",
    "\n",
    "#generate random normal sample\n",
    "X = np.random.normal(size = n, loc=theta)\n",
    "\n",
    "print(perm_test2(X, theta))\n",
    "print(conf_int(X, alpha))"
   ]
  },
  {
   "cell_type": "code",
   "execution_count": 42,
   "metadata": {},
   "outputs": [
    {
     "name": "stdout",
     "output_type": "stream",
     "text": [
      "0.94\n"
     ]
    }
   ],
   "source": [
    "#set random seed\n",
    "np.random.seed(42)\n",
    "\n",
    "#sample size\n",
    "n = 10\n",
    "#actual location paraneter\n",
    "theta = 0\n",
    "#level of significance\n",
    "alpha = 0.05\n",
    "\n",
    "#simulate coverage probability\n",
    "Nsim = 100\n",
    "count = 0\n",
    "for N in range(Nsim):\n",
    "    \n",
    "    #generate random normal sample\n",
    "    X = np.random.normal(size = n, loc=theta)\n",
    "\n",
    "    lb, ub = conf_int(X, alpha)\n",
    "    \n",
    "    if (lb <= theta and theta <= ub):\n",
    "        count += 1\n",
    "    \n",
    "#empirical coverage probability        \n",
    "print(count/Nsim)"
   ]
  }
 ],
 "metadata": {
  "kernelspec": {
   "display_name": "Python 3",
   "language": "python",
   "name": "python3"
  },
  "language_info": {
   "codemirror_mode": {
    "name": "ipython",
    "version": 3
   },
   "file_extension": ".py",
   "mimetype": "text/x-python",
   "name": "python",
   "nbconvert_exporter": "python",
   "pygments_lexer": "ipython3",
   "version": "3.7.1"
  }
 },
 "nbformat": 4,
 "nbformat_minor": 4
}
